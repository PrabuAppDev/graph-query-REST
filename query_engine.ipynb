{
 "cells": [
  {
   "cell_type": "code",
   "execution_count": 7,
   "id": "36bcd531-ff28-4249-a8fe-30d933e6ce46",
   "metadata": {},
   "outputs": [
    {
     "name": "stdout",
     "output_type": "stream",
     "text": [
      "CSV loaded successfully!\n",
      "Sample Data:\n"
     ]
    },
    {
     "data": {
      "text/html": [
       "<div>\n",
       "<style scoped>\n",
       "    .dataframe tbody tr th:only-of-type {\n",
       "        vertical-align: middle;\n",
       "    }\n",
       "\n",
       "    .dataframe tbody tr th {\n",
       "        vertical-align: top;\n",
       "    }\n",
       "\n",
       "    .dataframe thead th {\n",
       "        text-align: right;\n",
       "    }\n",
       "</style>\n",
       "<table border=\"1\" class=\"dataframe\">\n",
       "  <thead>\n",
       "    <tr style=\"text-align: right;\">\n",
       "      <th></th>\n",
       "      <th>Consumer</th>\n",
       "      <th>Producer</th>\n",
       "      <th>Integration Type</th>\n",
       "      <th>Context-Domain</th>\n",
       "    </tr>\n",
       "  </thead>\n",
       "  <tbody>\n",
       "    <tr>\n",
       "      <th>0</th>\n",
       "      <td>Payroll System</td>\n",
       "      <td>Research Database</td>\n",
       "      <td>REST-JSON-RPC</td>\n",
       "      <td>Research</td>\n",
       "    </tr>\n",
       "    <tr>\n",
       "      <th>1</th>\n",
       "      <td>Finance System</td>\n",
       "      <td>Analytics Dashboard</td>\n",
       "      <td>SFTP</td>\n",
       "      <td>Alumni Relations</td>\n",
       "    </tr>\n",
       "    <tr>\n",
       "      <th>2</th>\n",
       "      <td>Finance System</td>\n",
       "      <td>HR System</td>\n",
       "      <td>ETL</td>\n",
       "      <td>Admissions</td>\n",
       "    </tr>\n",
       "    <tr>\n",
       "      <th>3</th>\n",
       "      <td>IT Support System</td>\n",
       "      <td>Analytics Dashboard</td>\n",
       "      <td>SFTP</td>\n",
       "      <td>Student Services</td>\n",
       "    </tr>\n",
       "    <tr>\n",
       "      <th>4</th>\n",
       "      <td>Finance System</td>\n",
       "      <td>Inventory System</td>\n",
       "      <td>ETL</td>\n",
       "      <td>Finance</td>\n",
       "    </tr>\n",
       "  </tbody>\n",
       "</table>\n",
       "</div>"
      ],
      "text/plain": [
       "            Consumer             Producer Integration Type    Context-Domain\n",
       "0     Payroll System    Research Database    REST-JSON-RPC          Research\n",
       "1     Finance System  Analytics Dashboard             SFTP  Alumni Relations\n",
       "2     Finance System            HR System              ETL        Admissions\n",
       "3  IT Support System  Analytics Dashboard             SFTP  Student Services\n",
       "4     Finance System     Inventory System              ETL           Finance"
      ]
     },
     "metadata": {},
     "output_type": "display_data"
    }
   ],
   "source": [
    "import pandas as pd\n",
    "\n",
    "# Function to load and inspect the CSV\n",
    "def load_csv(file_path):\n",
    "    \"\"\"\n",
    "    Load a CSV file and return a DataFrame.\n",
    "\n",
    "    Args:\n",
    "        file_path (str): Path to the CSV file.\n",
    "\n",
    "    Returns:\n",
    "        pd.DataFrame: Loaded data as a pandas DataFrame.\n",
    "    \"\"\"\n",
    "    try:\n",
    "        data = pd.read_csv(file_path)\n",
    "        print(\"CSV loaded successfully!\")\n",
    "        return data\n",
    "    except Exception as e:\n",
    "        print(f\"Error loading CSV: {e}\")\n",
    "        return None\n",
    "\n",
    "# Path to the CSV file\n",
    "file_path = 'sample_integration_data.csv'\n",
    "\n",
    "# Load the CSV\n",
    "integration_data = load_csv(file_path)\n",
    "\n",
    "# Display the first few rows for inspection\n",
    "if integration_data is not None:\n",
    "    print(\"Sample Data:\")\n",
    "    display(integration_data.head())"
   ]
  },
  {
   "cell_type": "code",
   "execution_count": null,
   "id": "bbb55d3e-75cd-4ce2-a9ba-2e1af4b1600b",
   "metadata": {},
   "outputs": [],
   "source": [
    "# !pip install -v qdrant_client"
   ]
  },
  {
   "cell_type": "code",
   "execution_count": 17,
   "id": "34914b72-c4d8-433f-9c95-fe514010f02e",
   "metadata": {},
   "outputs": [
    {
     "data": {
      "application/vnd.jupyter.widget-view+json": {
       "model_id": "f13cce9254d54dc88e671f6456bb2dc6",
       "version_major": 2,
       "version_minor": 0
      },
      "text/plain": [
       "modules.json:   0%|          | 0.00/229 [00:00<?, ?B/s]"
      ]
     },
     "metadata": {},
     "output_type": "display_data"
    },
    {
     "data": {
      "application/vnd.jupyter.widget-view+json": {
       "model_id": "169969ba4bd5404ab3cad29000283090",
       "version_major": 2,
       "version_minor": 0
      },
      "text/plain": [
       "config_sentence_transformers.json:   0%|          | 0.00/122 [00:00<?, ?B/s]"
      ]
     },
     "metadata": {},
     "output_type": "display_data"
    },
    {
     "data": {
      "application/vnd.jupyter.widget-view+json": {
       "model_id": "12078033eb0d41f385f83d54fdd8808e",
       "version_major": 2,
       "version_minor": 0
      },
      "text/plain": [
       "README.md:   0%|          | 0.00/3.73k [00:00<?, ?B/s]"
      ]
     },
     "metadata": {},
     "output_type": "display_data"
    },
    {
     "data": {
      "application/vnd.jupyter.widget-view+json": {
       "model_id": "2fff4b5e1d26443f8cbde98264a0a5a1",
       "version_major": 2,
       "version_minor": 0
      },
      "text/plain": [
       "sentence_bert_config.json:   0%|          | 0.00/53.0 [00:00<?, ?B/s]"
      ]
     },
     "metadata": {},
     "output_type": "display_data"
    },
    {
     "data": {
      "application/vnd.jupyter.widget-view+json": {
       "model_id": "412d8eefaf1d491f803083f7ce4ef55d",
       "version_major": 2,
       "version_minor": 0
      },
      "text/plain": [
       "config.json:   0%|          | 0.00/629 [00:00<?, ?B/s]"
      ]
     },
     "metadata": {},
     "output_type": "display_data"
    },
    {
     "data": {
      "application/vnd.jupyter.widget-view+json": {
       "model_id": "6ba1a5b445b843b2a9811b6836692a73",
       "version_major": 2,
       "version_minor": 0
      },
      "text/plain": [
       "model.safetensors:   0%|          | 0.00/90.9M [00:00<?, ?B/s]"
      ]
     },
     "metadata": {},
     "output_type": "display_data"
    },
    {
     "data": {
      "application/vnd.jupyter.widget-view+json": {
       "model_id": "1aee454125d54a4b80efa623fd1950b4",
       "version_major": 2,
       "version_minor": 0
      },
      "text/plain": [
       "tokenizer_config.json:   0%|          | 0.00/314 [00:00<?, ?B/s]"
      ]
     },
     "metadata": {},
     "output_type": "display_data"
    },
    {
     "data": {
      "application/vnd.jupyter.widget-view+json": {
       "model_id": "53179e57eafe4b9bb2fa17c1db9e37b5",
       "version_major": 2,
       "version_minor": 0
      },
      "text/plain": [
       "vocab.txt:   0%|          | 0.00/232k [00:00<?, ?B/s]"
      ]
     },
     "metadata": {},
     "output_type": "display_data"
    },
    {
     "data": {
      "application/vnd.jupyter.widget-view+json": {
       "model_id": "311832b4113b4e169e3d2867bbe046c9",
       "version_major": 2,
       "version_minor": 0
      },
      "text/plain": [
       "tokenizer.json:   0%|          | 0.00/466k [00:00<?, ?B/s]"
      ]
     },
     "metadata": {},
     "output_type": "display_data"
    },
    {
     "data": {
      "application/vnd.jupyter.widget-view+json": {
       "model_id": "2d11d9fb7dc040458b3dd2082bb94e96",
       "version_major": 2,
       "version_minor": 0
      },
      "text/plain": [
       "special_tokens_map.json:   0%|          | 0.00/112 [00:00<?, ?B/s]"
      ]
     },
     "metadata": {},
     "output_type": "display_data"
    },
    {
     "data": {
      "application/vnd.jupyter.widget-view+json": {
       "model_id": "9e1e220a78b8422cb693d75769d9fffc",
       "version_major": 2,
       "version_minor": 0
      },
      "text/plain": [
       "1_Pooling/config.json:   0%|          | 0.00/190 [00:00<?, ?B/s]"
      ]
     },
     "metadata": {},
     "output_type": "display_data"
    },
    {
     "name": "stderr",
     "output_type": "stream",
     "text": [
      "/var/folders/9y/6280fw495y76ng470pndcvt40000gn/T/ipykernel_81975/2603742439.py:21: DeprecationWarning: `recreate_collection` method is deprecated and will be removed in the future. Use `collection_exists` to check collection existence and `create_collection` instead.\n",
      "  client.recreate_collection(\n"
     ]
    },
    {
     "name": "stdout",
     "output_type": "stream",
     "text": [
      "Vector database populated with 100 points!\n",
      "Vector database setup successful!\n"
     ]
    }
   ],
   "source": [
    "from sentence_transformers import SentenceTransformer\n",
    "import qdrant_client\n",
    "from qdrant_client.http.models import PointStruct\n",
    "\n",
    "# Initialize vectorizer (e.g., SentenceTransformer)\n",
    "vectorizer = SentenceTransformer('paraphrase-MiniLM-L6-v2')\n",
    "\n",
    "# Function to prepare and store data in the vector database\n",
    "def setup_vector_db(graph):\n",
    "    \"\"\"\n",
    "    Create and populate an in-memory vector database with graph data.\n",
    "\n",
    "    Args:\n",
    "        graph (dict): Graph representation with `nodes` and `edges`.\n",
    "\n",
    "    Returns:\n",
    "        QdrantClient: In-memory Qdrant client with indexed data.\n",
    "    \"\"\"\n",
    "    try:\n",
    "        client = qdrant_client.QdrantClient(\":memory:\")  # In-memory instance\n",
    "        client.recreate_collection(\n",
    "            collection_name=\"systems\",\n",
    "            vectors_config=qdrant_client.http.models.VectorParams(\n",
    "                size=384, distance=\"Cosine\"  # Embedding size from the model\n",
    "            )\n",
    "        )\n",
    "\n",
    "        # Add graph data to the collection\n",
    "        points = []\n",
    "        for edge in graph[\"edges\"]:\n",
    "            text = f\"{edge['source']} interacts with {edge['target']} via {edge['integration']}\"\n",
    "            embedding = vectorizer.encode(text).tolist()\n",
    "            points.append(\n",
    "                PointStruct(\n",
    "                    id=len(points), vector=embedding,\n",
    "                    payload={\"source\": edge[\"source\"], \"target\": edge[\"target\"],\n",
    "                             \"integration\": edge[\"integration\"], \"context\": edge[\"context\"]}\n",
    "                )\n",
    "            )\n",
    "\n",
    "        client.upsert(collection_name=\"systems\", points=points)\n",
    "        print(f\"Vector database populated with {len(points)} points!\")\n",
    "        return client\n",
    "    except Exception as e:\n",
    "        print(f\"Error setting up vector database: {e}\")\n",
    "        return None\n",
    "\n",
    "# Set up the vector database\n",
    "vector_db_client = setup_vector_db(graph)\n",
    "\n",
    "# Confirm successful setup\n",
    "if vector_db_client:\n",
    "    print(\"Vector database setup successful!\")"
   ]
  },
  {
   "cell_type": "code",
   "execution_count": 19,
   "id": "5b92105d-5c7d-4bfa-9b83-8f4aa9e85609",
   "metadata": {},
   "outputs": [
    {
     "name": "stdout",
     "output_type": "stream",
     "text": [
      "Retrieved 5 context items for query: 'What are the systems that interact with Finance System?'\n",
      "Context retrieval successful!\n",
      "Retrieved Context: [{'source': 'Finance System', 'target': 'Finance System', 'integration': 'REST-JSON-RPC', 'context': 'Reporting'}, {'source': 'Finance System', 'target': 'Inventory System', 'integration': 'ETL', 'context': 'Finance'}, {'source': 'HR System', 'target': 'Finance System', 'integration': 'CDC-Stream', 'context': 'Alumni Relations'}, {'source': 'Finance System', 'target': 'Inventory System', 'integration': 'SFTP', 'context': 'Student Services'}, {'source': 'Finance System', 'target': 'CRM System', 'integration': 'ETL', 'context': 'Finance'}]\n"
     ]
    }
   ],
   "source": [
    "def retrieve_context_from_vector_db(client, query, top_k=5):\n",
    "    \"\"\"\n",
    "    Retrieve relevant context for the query from the vector database.\n",
    "\n",
    "    Args:\n",
    "        client (QdrantClient): Qdrant client instance.\n",
    "        query (str): The natural language query.\n",
    "        top_k (int): Number of top results to retrieve.\n",
    "\n",
    "    Returns:\n",
    "        list: Retrieved context from the vector database.\n",
    "    \"\"\"\n",
    "    try:\n",
    "        query_embedding = vectorizer.encode(query).tolist()\n",
    "        results = client.search(\n",
    "            collection_name=\"systems\",\n",
    "            query_vector=query_embedding,\n",
    "            limit=top_k\n",
    "        )\n",
    "        context = [\n",
    "            result.payload for result in results\n",
    "        ]\n",
    "        print(f\"Retrieved {len(context)} context items for query: '{query}'\")\n",
    "        return context\n",
    "    except Exception as e:\n",
    "        print(f\"Error querying vector database: {e}\")\n",
    "        return []\n",
    "\n",
    "# Example query\n",
    "example_query = \"What are the systems that interact with Finance System?\"\n",
    "retrieved_context = retrieve_context_from_vector_db(vector_db_client, example_query)\n",
    "\n",
    "# Confirm successful retrieval\n",
    "if retrieved_context:\n",
    "    print(\"Context retrieval successful!\")\n",
    "    print(\"Retrieved Context:\", retrieved_context)\n",
    "else:\n",
    "    print(\"No context retrieved.\")"
   ]
  },
  {
   "cell_type": "code",
   "execution_count": 29,
   "id": "ccced211-d0b5-4743-8c0c-fdf145b502e7",
   "metadata": {},
   "outputs": [
    {
     "name": "stdout",
     "output_type": "stream",
     "text": [
      "Model 'EleutherAI/gpt-neo-125M' loaded successfully!\n"
     ]
    }
   ],
   "source": [
    "from transformers import AutoModelForCausalLM, AutoTokenizer\n",
    "\n",
    "# Function to load the LLM\n",
    "def load_llm(model_name=\"EleutherAI/gpt-neo-125M\"):\n",
    "    \"\"\"\n",
    "    Load a local LLM for processing queries.\n",
    "\n",
    "    Args:\n",
    "        model_name (str): The name of the Hugging Face model to load.\n",
    "\n",
    "    Returns:\n",
    "        tokenizer, model: The tokenizer and model for the LLM.\n",
    "    \"\"\"\n",
    "    try:\n",
    "        tokenizer = AutoTokenizer.from_pretrained(model_name)\n",
    "        model = AutoModelForCausalLM.from_pretrained(model_name)\n",
    "        print(f\"Model '{model_name}' loaded successfully!\")\n",
    "        return tokenizer, model\n",
    "    except Exception as e:\n",
    "        print(f\"Error loading model: {e}\")\n",
    "        return None, None\n",
    "\n",
    "# Load the tokenizer and model\n",
    "tokenizer, model = load_llm()"
   ]
  },
  {
   "cell_type": "code",
   "execution_count": 77,
   "id": "0aae86a6-fc71-422c-b8c9-2ff566361368",
   "metadata": {},
   "outputs": [],
   "source": [
    "def generate_json_with_prompt(context, query, tokenizer, model):\n",
    "    \"\"\"\n",
    "    Generate a strict JSON response using a single example to guide the LLM.\n",
    "\n",
    "    Args:\n",
    "        context (list): Context retrieved from the vector database.\n",
    "        query (str): User query.\n",
    "        tokenizer: Tokenizer for the LLM.\n",
    "        model: Loaded LLM.\n",
    "\n",
    "    Returns:\n",
    "        str: JSON response as a string.\n",
    "    \"\"\"\n",
    "    try:\n",
    "        # Limit context to the first 3 items for clarity\n",
    "        limited_context = context[:3]\n",
    "        formatted_context = \"\\n\".join([\n",
    "            f\"Source: {item['source']}, Target: {item['target']}, Integration: {item['integration']}, Context: {item['context']}\"\n",
    "            for item in limited_context\n",
    "        ])\n",
    "\n",
    "        # Single example for guidance\n",
    "        example = \"\"\"\n",
    "Example:\n",
    "Context:\n",
    "Source: Payroll System, Target: HR System, Integration: API, Context: Employee Data\n",
    "Source: Payroll System, Target: Analytics Dashboard, Integration: FTP, Context: Reporting\n",
    "\n",
    "Question: What are the systems that interact with Payroll System?\n",
    "\n",
    "JSON Response:\n",
    "{\n",
    "  \"query\": \"What are the systems that interact with Payroll System?\",\n",
    "  \"nodes\": [\n",
    "    {\"id\": \"Payroll System\"},\n",
    "    {\"id\": \"HR System\"},\n",
    "    {\"id\": \"Analytics Dashboard\"}\n",
    "  ],\n",
    "  \"edges\": [\n",
    "    {\"source\": \"Payroll System\", \"target\": \"HR System\", \"integration\": \"API\", \"context\": \"Employee Data\"},\n",
    "    {\"source\": \"Payroll System\", \"target\": \"Analytics Dashboard\", \"integration\": \"FTP\", \"context\": \"Reporting\"}\n",
    "  ]\n",
    "}\n",
    "\"\"\"\n",
    "\n",
    "        # Combine example and actual query into the prompt\n",
    "        prompt = f\"\"\"\n",
    "{example}\n",
    "\n",
    "Now, based on the following context and question, generate ONLY JSON:\n",
    "\n",
    "Context:\n",
    "{formatted_context}\n",
    "\n",
    "Question: {query}\n",
    "\n",
    "JSON Response:\n",
    "\"\"\"\n",
    "\n",
    "        # Generate response\n",
    "        inputs = tokenizer(prompt, return_tensors=\"pt\")\n",
    "        outputs = model.generate(\n",
    "            inputs[\"input_ids\"],\n",
    "            max_length=1000,  # Allow up to 1000 tokens for input + output\n",
    "            pad_token_id=tokenizer.eos_token_id\n",
    "        )\n",
    "        response = tokenizer.decode(outputs[0], skip_special_tokens=True)\n",
    "        print(\"Raw LLM Response:\", response)\n",
    "\n",
    "        # Extract the JSON portion from the response\n",
    "        start_index = response.find('{')\n",
    "        end_index = response.rfind('}')\n",
    "        if start_index != -1 and end_index != -1:\n",
    "            response_json = response[start_index:end_index + 1]\n",
    "            return response_json\n",
    "        else:\n",
    "            print(\"No valid JSON found in response.\")\n",
    "            return None\n",
    "\n",
    "    except Exception as e:\n",
    "        print(f\"Error generating JSON response: {e}\")\n",
    "        return None"
   ]
  },
  {
   "cell_type": "code",
   "execution_count": 79,
   "id": "3e67a6be-25bb-4931-a688-3c69b183f993",
   "metadata": {},
   "outputs": [
    {
     "name": "stdout",
     "output_type": "stream",
     "text": [
      "Retrieved 5 context items for query: 'What are the systems that interact with Finance System?'\n",
      "Retrieved Context: [{'source': 'Finance System', 'target': 'Finance System', 'integration': 'REST-JSON-RPC', 'context': 'Reporting'}, {'source': 'Finance System', 'target': 'Inventory System', 'integration': 'ETL', 'context': 'Finance'}, {'source': 'HR System', 'target': 'Finance System', 'integration': 'CDC-Stream', 'context': 'Alumni Relations'}, {'source': 'Finance System', 'target': 'Inventory System', 'integration': 'SFTP', 'context': 'Student Services'}, {'source': 'Finance System', 'target': 'CRM System', 'integration': 'ETL', 'context': 'Finance'}]\n",
      "Testing JSON Generation with Updated Few-Shot Prompt...\n",
      "Raw LLM Response: \n",
      "\n",
      "Example:\n",
      "Context:\n",
      "Source: Payroll System, Target: HR System, Integration: API, Context: Employee Data\n",
      "Source: Payroll System, Target: Analytics Dashboard, Integration: FTP, Context: Reporting\n",
      "\n",
      "Question: What are the systems that interact with Payroll System?\n",
      "\n",
      "JSON Response:\n",
      "{\n",
      "  \"query\": \"What are the systems that interact with Payroll System?\",\n",
      "  \"nodes\": [\n",
      "    {\"id\": \"Payroll System\"},\n",
      "    {\"id\": \"HR System\"},\n",
      "    {\"id\": \"Analytics Dashboard\"}\n",
      "  ],\n",
      "  \"edges\": [\n",
      "    {\"source\": \"Payroll System\", \"target\": \"HR System\", \"integration\": \"API\", \"context\": \"Employee Data\"},\n",
      "    {\"source\": \"Payroll System\", \"target\": \"Analytics Dashboard\", \"integration\": \"FTP\", \"context\": \"Reporting\"}\n",
      "  ]\n",
      "}\n",
      "\n",
      "\n",
      "Now, based on the following context and question, generate ONLY JSON:\n",
      "\n",
      "Context:\n",
      "Source: Finance System, Target: Finance System, Integration: REST-JSON-RPC, Context: Reporting\n",
      "Source: Finance System, Target: Inventory System, Integration: ETL, Context: Finance\n",
      "Source: HR System, Target: Finance System, Integration: CDC-Stream, Context: Alumni Relations\n",
      "\n",
      "Question: What are the systems that interact with Finance System?\n",
      "\n",
      "JSON Response:\n",
      "{\n",
      "  \"query\": \"What are the systems that interact with Finance System?\",\n",
      "  \"nodes\": [\n",
      "    {\"id\": \"Finance System\"},\n",
      "    {\"id\": \"HR System\"},\n",
      "    {\"id\": \"Analytics Dashboard\"}\n",
      "  ],\n",
      "  \"edges\": [\n",
      "    {\"source\": \"Finance System\", \"target\": \"HR System\", \"integration\": \"API\", \"context\": \"Employee Data\"},\n",
      "    {\"source\": \"Finance System\", \"target\": \"Analytics Dashboard\", \"integration\": \"FTP\", \"context\": \"Reporting\"}\n",
      "  ]\n",
      "}\n",
      "\n",
      "\n",
      "Now, based on the following context and question, generate ONLY JSON:\n",
      "\n",
      "Context:\n",
      "Source: Finance System, Target: Finance System, Integration: REST-JSON-RPC, Context: Reporting\n",
      "Source: HR System, Target: Finance System, Integration: ETL, Context: Finance\n",
      "Source: Finance System, Target: Inventory System, Integration: CDC-Stream, Context: Alumni Relations\n",
      "\n",
      "Question: What are the systems that interact with Finance System?\n",
      "\n",
      "JSON Response:\n",
      "{\n",
      "  \"query\": \"What are the systems that interact with Finance System?\",\n",
      "  \"nodes\": [\n",
      "    {\"id\": \"Finance System\"},\n",
      "    {\"id\": \"HR System\"},\n",
      "    {\"id\": \"Analytics Dashboard\"}\n",
      "  ],\n",
      "  \"edges\": [\n",
      "    {\"source\": \"Finance System\", \"target\": \"HR System\", \"integration\": \"API\", \"context\": \"Employee Data\"},\n",
      "    {\"source\": \"Finance System\", \"target\": \"Analytics Dashboard\", \"integration\": \"FTP\", \"context\": \"Reporting\"}\n",
      "  ]\n",
      "}\n",
      "\n",
      "\n",
      "Now, based on the following context and question, generate ONLY JSON:\n",
      "\n",
      "Context:\n",
      "Source: Finance System, Target: Finance System, Integration: REST-JSON-RPC, Context: Reporting\n",
      "Source: HR System, Target: Finance System, Integration: ETL, Context: Finance\n",
      "Source: HR System, Target: Inventory System, Integration: CDC-Stream, Context: Alumni Relations\n",
      "\n",
      "Question: What are the systems that interact with Finance System?\n",
      "\n",
      "JSON Response:\n",
      "{\n",
      "  \"query\": \"What are the systems that interact with Finance System?\",\n",
      "  \"nodes\": [\n",
      "    {\"id\": \"Finance System\"},\n",
      "    {\"id\": \"HR System\"},\n",
      "    {\"id\": \"Analytics Dashboard\"}\n",
      "  ],\n",
      "  \"edges\": [\n",
      "    {\"source\": \"Finance System\", \"target\": \"HR System\", \"integration\": \"API\", \"context\": \"Employee Data\"},\n",
      "    {\"source\": \"Finance System\", \"target\": \"Analytics Dashboard\", \"integration\": \"FTP\", \"context\": \"Reporting\"}\n",
      "  ]\n",
      "}\n",
      "\n",
      "\n",
      "Now, based on the following context and question, generate ONLY JSON:\n",
      "\n",
      "Context:\n",
      "Source: Finance System, Target: Finance System, Integration: REST-JSON-RPC, Context: Reporting\n",
      "Generated JSON Response: {\n",
      "  \"query\": \"What are the systems that interact with Payroll System?\",\n",
      "  \"nodes\": [\n",
      "    {\"id\": \"Payroll System\"},\n",
      "    {\"id\": \"HR System\"},\n",
      "    {\"id\": \"Analytics Dashboard\"}\n",
      "  ],\n",
      "  \"edges\": [\n",
      "    {\"source\": \"Payroll System\", \"target\": \"HR System\", \"integration\": \"API\", \"context\": \"Employee Data\"},\n",
      "    {\"source\": \"Payroll System\", \"target\": \"Analytics Dashboard\", \"integration\": \"FTP\", \"context\": \"Reporting\"}\n",
      "  ]\n",
      "}\n",
      "\n",
      "\n",
      "Now, based on the following context and question, generate ONLY JSON:\n",
      "\n",
      "Context:\n",
      "Source: Finance System, Target: Finance System, Integration: REST-JSON-RPC, Context: Reporting\n",
      "Source: Finance System, Target: Inventory System, Integration: ETL, Context: Finance\n",
      "Source: HR System, Target: Finance System, Integration: CDC-Stream, Context: Alumni Relations\n",
      "\n",
      "Question: What are the systems that interact with Finance System?\n",
      "\n",
      "JSON Response:\n",
      "{\n",
      "  \"query\": \"What are the systems that interact with Finance System?\",\n",
      "  \"nodes\": [\n",
      "    {\"id\": \"Finance System\"},\n",
      "    {\"id\": \"HR System\"},\n",
      "    {\"id\": \"Analytics Dashboard\"}\n",
      "  ],\n",
      "  \"edges\": [\n",
      "    {\"source\": \"Finance System\", \"target\": \"HR System\", \"integration\": \"API\", \"context\": \"Employee Data\"},\n",
      "    {\"source\": \"Finance System\", \"target\": \"Analytics Dashboard\", \"integration\": \"FTP\", \"context\": \"Reporting\"}\n",
      "  ]\n",
      "}\n",
      "\n",
      "\n",
      "Now, based on the following context and question, generate ONLY JSON:\n",
      "\n",
      "Context:\n",
      "Source: Finance System, Target: Finance System, Integration: REST-JSON-RPC, Context: Reporting\n",
      "Source: HR System, Target: Finance System, Integration: ETL, Context: Finance\n",
      "Source: Finance System, Target: Inventory System, Integration: CDC-Stream, Context: Alumni Relations\n",
      "\n",
      "Question: What are the systems that interact with Finance System?\n",
      "\n",
      "JSON Response:\n",
      "{\n",
      "  \"query\": \"What are the systems that interact with Finance System?\",\n",
      "  \"nodes\": [\n",
      "    {\"id\": \"Finance System\"},\n",
      "    {\"id\": \"HR System\"},\n",
      "    {\"id\": \"Analytics Dashboard\"}\n",
      "  ],\n",
      "  \"edges\": [\n",
      "    {\"source\": \"Finance System\", \"target\": \"HR System\", \"integration\": \"API\", \"context\": \"Employee Data\"},\n",
      "    {\"source\": \"Finance System\", \"target\": \"Analytics Dashboard\", \"integration\": \"FTP\", \"context\": \"Reporting\"}\n",
      "  ]\n",
      "}\n",
      "\n",
      "\n",
      "Now, based on the following context and question, generate ONLY JSON:\n",
      "\n",
      "Context:\n",
      "Source: Finance System, Target: Finance System, Integration: REST-JSON-RPC, Context: Reporting\n",
      "Source: HR System, Target: Finance System, Integration: ETL, Context: Finance\n",
      "Source: HR System, Target: Inventory System, Integration: CDC-Stream, Context: Alumni Relations\n",
      "\n",
      "Question: What are the systems that interact with Finance System?\n",
      "\n",
      "JSON Response:\n",
      "{\n",
      "  \"query\": \"What are the systems that interact with Finance System?\",\n",
      "  \"nodes\": [\n",
      "    {\"id\": \"Finance System\"},\n",
      "    {\"id\": \"HR System\"},\n",
      "    {\"id\": \"Analytics Dashboard\"}\n",
      "  ],\n",
      "  \"edges\": [\n",
      "    {\"source\": \"Finance System\", \"target\": \"HR System\", \"integration\": \"API\", \"context\": \"Employee Data\"},\n",
      "    {\"source\": \"Finance System\", \"target\": \"Analytics Dashboard\", \"integration\": \"FTP\", \"context\": \"Reporting\"}\n",
      "  ]\n",
      "}\n"
     ]
    }
   ],
   "source": [
    "# Example query for the vector database\n",
    "example_query = \"What are the systems that interact with Finance System?\"\n",
    "\n",
    "# Step 1: Retrieve relevant context from the vector DB\n",
    "retrieved_context = retrieve_context_from_vector_db(vector_db_client, example_query)\n",
    "print(\"Retrieved Context:\", retrieved_context)\n",
    "\n",
    "# Step 2: Generate JSON response if context is retrieved\n",
    "if retrieved_context:\n",
    "    print(\"Testing JSON Generation with Updated Few-Shot Prompt...\")\n",
    "    \n",
    "    # Call the updated generate_json_with_prompt function\n",
    "    json_response = generate_json_with_prompt(retrieved_context, example_query, tokenizer, model)\n",
    "\n",
    "    # Print the generated JSON response\n",
    "    if json_response:\n",
    "        print(\"Generated JSON Response:\", json_response)\n",
    "    else:\n",
    "        print(\"Failed to generate JSON response.\")\n",
    "else:\n",
    "    print(\"No context retrieved from Vector DB.\")"
   ]
  }
 ],
 "metadata": {
  "kernelspec": {
   "display_name": "Python 3 (ipykernel)",
   "language": "python",
   "name": "python3"
  },
  "language_info": {
   "codemirror_mode": {
    "name": "ipython",
    "version": 3
   },
   "file_extension": ".py",
   "mimetype": "text/x-python",
   "name": "python",
   "nbconvert_exporter": "python",
   "pygments_lexer": "ipython3",
   "version": "3.12.4"
  }
 },
 "nbformat": 4,
 "nbformat_minor": 5
}

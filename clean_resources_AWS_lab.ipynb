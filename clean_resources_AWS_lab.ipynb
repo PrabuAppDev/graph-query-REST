{
 "cells": [
  {
   "cell_type": "code",
   "execution_count": 5,
   "id": "daccde36-e84c-4baf-9e6e-9a4b58c4bee8",
   "metadata": {},
   "outputs": [
    {
     "name": "stderr",
     "output_type": "stream",
     "text": [
      "2024-12-14 16:42:50,903 - INFO - Initializing AWS resource listing...\n",
      "2024-12-14 16:42:50,909 - INFO - Found credentials in shared credentials file: ~/.aws/credentials\n",
      "2024-12-14 16:42:51,405 - INFO - Listing Bedrock agents...\n",
      "2024-12-14 16:42:51,407 - ERROR - Failed to list Bedrock agents: 'Bedrock' object has no attribute 'list_agents'\n",
      "2024-12-14 16:42:51,432 - INFO - Listing Lambda functions...\n",
      "2024-12-14 16:42:52,160 - ERROR - Failed to list Lambda functions: An error occurred (AccessDeniedException) when calling the ListFunctions operation: User: arn:aws:iam::221777993733:user/Notebook-API-access is not authorized to perform: lambda:ListFunctions on resource: * because no identity-based policy allows the lambda:ListFunctions action\n",
      "2024-12-14 16:42:52,189 - INFO - Listing IAM roles...\n",
      "2024-12-14 16:42:53,074 - ERROR - Failed to list IAM roles: An error occurred (AccessDenied) when calling the ListRoles operation: User: arn:aws:iam::221777993733:user/Notebook-API-access is not authorized to perform: iam:ListRoles on resource: arn:aws:iam::221777993733:role/ because no identity-based policy allows the iam:ListRoles action\n",
      "2024-12-14 16:42:53,076 - INFO - Resource listing completed.\n"
     ]
    }
   ],
   "source": [
    "# Import necessary libraries\n",
    "import boto3\n",
    "import logging\n",
    "\n",
    "# Configure logging\n",
    "logging.basicConfig(level=logging.INFO, format=\"%(asctime)s - %(levelname)s - %(message)s\")\n",
    "\n",
    "# Specify the AWS CLI profile to use\n",
    "AWS_PROFILE = \"AWS_PROFILE_CLI\"\n",
    "\n",
    "# Initialize a session using the specified profile\n",
    "session = boto3.Session(profile_name=AWS_PROFILE)\n",
    "\n",
    "def list_bedrock_agents():\n",
    "    \"\"\"List all Bedrock agents.\"\"\"\n",
    "    try:\n",
    "        bedrock = session.client(\"bedrock\")\n",
    "        logging.info(\"Listing Bedrock agents...\")\n",
    "        \n",
    "        response = bedrock.list_agents()\n",
    "        agents = response.get(\"agents\", [])\n",
    "        \n",
    "        logging.info(f\"Found {len(agents)} Bedrock agents.\")\n",
    "        for agent in agents:\n",
    "            logging.info(f\"Agent ID: {agent['agentId']}, Name: {agent.get('name', 'N/A')}\")\n",
    "    except Exception as e:\n",
    "        logging.error(f\"Failed to list Bedrock agents: {e}\")\n",
    "\n",
    "def list_lambda_functions():\n",
    "    \"\"\"List all Lambda functions.\"\"\"\n",
    "    try:\n",
    "        lambda_client = session.client(\"lambda\")\n",
    "        logging.info(\"Listing Lambda functions...\")\n",
    "        \n",
    "        response = lambda_client.list_functions()\n",
    "        functions = response.get(\"Functions\", [])\n",
    "        \n",
    "        logging.info(f\"Found {len(functions)} Lambda functions.\")\n",
    "        for function in functions:\n",
    "            logging.info(f\"Function Name: {function['FunctionName']}, ARN: {function['FunctionArn']}\")\n",
    "    except Exception as e:\n",
    "        logging.error(f\"Failed to list Lambda functions: {e}\")\n",
    "\n",
    "def list_iam_roles():\n",
    "    \"\"\"List all IAM roles.\"\"\"\n",
    "    try:\n",
    "        iam_client = session.client(\"iam\")\n",
    "        logging.info(\"Listing IAM roles...\")\n",
    "        \n",
    "        response = iam_client.list_roles()\n",
    "        roles = response.get(\"Roles\", [])\n",
    "        \n",
    "        logging.info(f\"Found {len(roles)} IAM roles.\")\n",
    "        for role in roles:\n",
    "            logging.info(f\"Role Name: {role['RoleName']}, ARN: {role['Arn']}\")\n",
    "    except Exception as e:\n",
    "        logging.error(f\"Failed to list IAM roles: {e}\")\n",
    "\n",
    "# Main function to list resources\n",
    "if __name__ == \"__main__\":\n",
    "    logging.info(\"Initializing AWS resource listing...\")\n",
    "    \n",
    "    list_bedrock_agents()\n",
    "    list_lambda_functions()\n",
    "    list_iam_roles()\n",
    "    \n",
    "    logging.info(\"Resource listing completed.\")"
   ]
  }
 ],
 "metadata": {
  "kernelspec": {
   "display_name": "Python 3 (ipykernel)",
   "language": "python",
   "name": "python3"
  },
  "language_info": {
   "codemirror_mode": {
    "name": "ipython",
    "version": 3
   },
   "file_extension": ".py",
   "mimetype": "text/x-python",
   "name": "python",
   "nbconvert_exporter": "python",
   "pygments_lexer": "ipython3",
   "version": "3.12.7"
  }
 },
 "nbformat": 4,
 "nbformat_minor": 5
}

{
 "cells": [
  {
   "cell_type": "code",
   "execution_count": 1,
   "id": "033b39df-91f0-4348-a859-abed701bbdf9",
   "metadata": {},
   "outputs": [
    {
     "name": "stdout",
     "output_type": "stream",
     "text": [
      "Requirement already satisfied: flask in c:\\users\\prabu\\anaconda3\\lib\\site-packages (3.0.3)\n",
      "Requirement already satisfied: flask-cors in c:\\users\\prabu\\anaconda3\\lib\\site-packages (5.0.0)\n",
      "Requirement already satisfied: Werkzeug>=3.0.0 in c:\\users\\prabu\\anaconda3\\lib\\site-packages (from flask) (3.0.3)\n",
      "Requirement already satisfied: Jinja2>=3.1.2 in c:\\users\\prabu\\anaconda3\\lib\\site-packages (from flask) (3.1.4)\n",
      "Requirement already satisfied: itsdangerous>=2.1.2 in c:\\users\\prabu\\anaconda3\\lib\\site-packages (from flask) (2.2.0)\n",
      "Requirement already satisfied: click>=8.1.3 in c:\\users\\prabu\\anaconda3\\lib\\site-packages (from flask) (8.1.7)\n",
      "Requirement already satisfied: blinker>=1.6.2 in c:\\users\\prabu\\anaconda3\\lib\\site-packages (from flask) (1.6.2)\n",
      "Requirement already satisfied: colorama in c:\\users\\prabu\\anaconda3\\lib\\site-packages (from click>=8.1.3->flask) (0.4.6)\n",
      "Requirement already satisfied: MarkupSafe>=2.0 in c:\\users\\prabu\\anaconda3\\lib\\site-packages (from Jinja2>=3.1.2->flask) (2.1.3)\n"
     ]
    }
   ],
   "source": [
    "!pip install flask flask-cors"
   ]
  },
  {
   "cell_type": "code",
   "execution_count": null,
   "id": "05406925-4c7e-4d9d-aad4-bdf7fb8763a4",
   "metadata": {},
   "outputs": [
    {
     "name": "stdout",
     "output_type": "stream",
     "text": [
      "CSV loaded successfully!\n",
      "Graph successfully constructed.\n",
      "Vector database populated with 100 points!\n",
      "Vector database setup completed.\n",
      "Starting Flask server on http://127.0.0.1:5000. Use Ctrl+C to stop the server.\n",
      " * Serving Flask app '__main__'\n",
      " * Debug mode: on\n"
     ]
    },
    {
     "name": "stderr",
     "output_type": "stream",
     "text": [
      "WARNING: This is a development server. Do not use it in a production deployment. Use a production WSGI server instead.\n",
      " * Running on http://127.0.0.1:5000\n",
      "Press CTRL+C to quit\n",
      "127.0.0.1 - - [28/Nov/2024 13:51:12] \"POST /query HTTP/1.1\" 200 -\n",
      "127.0.0.1 - - [28/Nov/2024 13:53:55] \"OPTIONS /query HTTP/1.1\" 200 -\n",
      "127.0.0.1 - - [28/Nov/2024 13:53:58] \"POST /query HTTP/1.1\" 200 -\n",
      "127.0.0.1 - - [28/Nov/2024 13:54:38] \"OPTIONS /query HTTP/1.1\" 200 -\n",
      "127.0.0.1 - - [28/Nov/2024 13:54:42] \"POST /query HTTP/1.1\" 200 -\n",
      "127.0.0.1 - - [28/Nov/2024 13:56:34] \"OPTIONS /query HTTP/1.1\" 200 -\n",
      "127.0.0.1 - - [28/Nov/2024 13:56:38] \"POST /query HTTP/1.1\" 200 -\n",
      "127.0.0.1 - - [28/Nov/2024 13:56:57] \"OPTIONS /query HTTP/1.1\" 200 -\n",
      "127.0.0.1 - - [28/Nov/2024 13:57:00] \"POST /query HTTP/1.1\" 200 -\n",
      "127.0.0.1 - - [28/Nov/2024 14:01:33] \"OPTIONS /query HTTP/1.1\" 200 -\n",
      "127.0.0.1 - - [28/Nov/2024 14:01:37] \"POST /query HTTP/1.1\" 200 -\n",
      "127.0.0.1 - - [28/Nov/2024 14:03:11] \"OPTIONS /query HTTP/1.1\" 200 -\n",
      "127.0.0.1 - - [28/Nov/2024 14:03:14] \"POST /query HTTP/1.1\" 200 -\n",
      "127.0.0.1 - - [28/Nov/2024 14:06:23] \"OPTIONS /query HTTP/1.1\" 200 -\n",
      "127.0.0.1 - - [28/Nov/2024 14:06:25] \"POST /query HTTP/1.1\" 200 -\n",
      "127.0.0.1 - - [28/Nov/2024 14:07:09] \"OPTIONS /query HTTP/1.1\" 200 -\n",
      "127.0.0.1 - - [28/Nov/2024 14:07:13] \"POST /query HTTP/1.1\" 200 -\n"
     ]
    }
   ],
   "source": [
    "from flask import Flask, request, jsonify\n",
    "from flask_cors import CORS\n",
    "import json\n",
    "from query_engine_interface import (\n",
    "    generate_json_with_openai_few_shot,\n",
    "    retrieve_context_from_vector_db,\n",
    "    setup_vector_db,\n",
    "    load_csv,\n",
    "    construct_graph,\n",
    ")\n",
    "\n",
    "app = Flask(__name__)\n",
    "CORS(app)\n",
    "\n",
    "# Load CSV and construct the graph\n",
    "file_path = \"sample_integration_data.csv\"\n",
    "integration_data = load_csv(file_path)\n",
    "if integration_data is not None:\n",
    "    graph = construct_graph(integration_data)\n",
    "    print(\"Graph successfully constructed.\")\n",
    "else:\n",
    "    print(\"Failed to load CSV or construct graph.\")\n",
    "    graph = None\n",
    "\n",
    "# Ensure the vector database is set up\n",
    "vector_db_client = None\n",
    "if graph:\n",
    "    vector_db_client = setup_vector_db(graph)\n",
    "    if vector_db_client:\n",
    "        print(\"Vector database setup completed.\")\n",
    "    else:\n",
    "        print(\"Vector database setup failed.\")\n",
    "\n",
    "@app.route(\"/\", methods=[\"GET\"])\n",
    "def home():\n",
    "    \"\"\"\n",
    "    Root endpoint for debugging or displaying server status.\n",
    "    \"\"\"\n",
    "    return jsonify({\"message\": \"Server is running. Use POST /query to interact.\"}), 200\n",
    "\n",
    "@app.route(\"/query\", methods=[\"POST\"])\n",
    "def query_interactions():\n",
    "    \"\"\"\n",
    "    Endpoint to retrieve system interactions for a given query.\n",
    "    \"\"\"\n",
    "    if vector_db_client is None:\n",
    "        return jsonify({\"error\": \"Vector database not available\"}), 503\n",
    "\n",
    "    data = request.get_json()\n",
    "    query = data.get(\"query\", \"\")\n",
    "\n",
    "    if not query:\n",
    "        return jsonify({\"error\": \"Query parameter is missing\"}), 400\n",
    "\n",
    "    # Retrieve context\n",
    "    retrieved_context = retrieve_context_from_vector_db(vector_db_client, query)\n",
    "    if not retrieved_context:\n",
    "        return jsonify({\"error\": \"No context found\"}), 404\n",
    "\n",
    "    # Generate JSON response using OpenAI\n",
    "    json_response = generate_json_with_openai_few_shot(retrieved_context, query)\n",
    "    if json_response:\n",
    "        try:\n",
    "            # Parse the JSON string into a Python object\n",
    "            parsed_response = json.loads(json_response)\n",
    "            return jsonify({\"query\": query, \"response\": parsed_response}), 200\n",
    "        except json.JSONDecodeError as e:\n",
    "            print(f\"Error decoding JSON: {e}\")\n",
    "            return jsonify({\"error\": \"Failed to parse JSON response\"}), 500\n",
    "    else:\n",
    "        return jsonify({\"error\": \"Failed to generate JSON response\"}), 500\n",
    "\n",
    "if __name__ == \"__main__\":\n",
    "    print(\"Starting Flask server on http://127.0.0.1:5000. Use Ctrl+C to stop the server.\")\n",
    "    app.run(port=5000, debug=True, use_reloader=False)"
   ]
  }
 ],
 "metadata": {
  "kernelspec": {
   "display_name": "Python 3 (ipykernel)",
   "language": "python",
   "name": "python3"
  },
  "language_info": {
   "codemirror_mode": {
    "name": "ipython",
    "version": 3
   },
   "file_extension": ".py",
   "mimetype": "text/x-python",
   "name": "python",
   "nbconvert_exporter": "python",
   "pygments_lexer": "ipython3",
   "version": "3.12.7"
  }
 },
 "nbformat": 4,
 "nbformat_minor": 5
}

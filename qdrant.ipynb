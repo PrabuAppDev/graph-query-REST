{
 "cells": [
  {
   "cell_type": "code",
   "execution_count": 1,
   "id": "5ea51b8d-b19c-46db-a97f-fcac66832f27",
   "metadata": {},
   "outputs": [
    {
     "name": "stdout",
     "output_type": "stream",
     "text": [
      "Available Collections: collections=[]\n",
      "Collection 'systems' does not exist.\n"
     ]
    }
   ],
   "source": [
    "from qdrant_client import QdrantClient\n",
    "\n",
    "# Connect to the Qdrant vector database\n",
    "client = QdrantClient(path=\":memory:\")  # Use \":memory:\" if using in-memory database\n",
    "\n",
    "# Step 1: List all collections\n",
    "collections = client.get_collections()\n",
    "print(\"Available Collections:\", collections)\n",
    "\n",
    "# Step 2: Inspect the schema of the 'systems' collection\n",
    "if client.collection_exists(\"systems\"):\n",
    "    schema = client.get_collection(\"systems\")\n",
    "    print(\"Schema for 'systems':\", schema)\n",
    "\n",
    "    # Step 3: Retrieve a few points from the 'systems' collection\n",
    "    results = client.scroll(\n",
    "        collection_name=\"systems\",\n",
    "        limit=5,  # Adjust the limit as needed\n",
    "    )\n",
    "    print(\"Retrieved Points:\")\n",
    "    for point in results[0]:\n",
    "        print(point)\n",
    "else:\n",
    "    print(\"Collection 'systems' does not exist.\")"
   ]
  },
  {
   "cell_type": "code",
   "execution_count": 2,
   "id": "062756c7-de77-4051-8c55-88e428cc0167",
   "metadata": {},
   "outputs": [
    {
     "name": "stderr",
     "output_type": "stream",
     "text": [
      "2024-12-07 13:52:34,802 - INFO - Use pytorch device_name: cpu\n",
      "2024-12-07 13:52:34,802 - INFO - Load pretrained SentenceTransformer: paraphrase-MiniLM-L6-v2\n",
      "2024-12-07 13:52:36,095 - INFO - Qdrant initialized in memory.\n",
      "2024-12-07 13:52:36,095 - INFO - Collection 'systems' created.\n"
     ]
    },
    {
     "data": {
      "application/vnd.jupyter.widget-view+json": {
       "model_id": "f898bac89abb47a1936892c5dfcfa835",
       "version_major": 2,
       "version_minor": 0
      },
      "text/plain": [
       "Batches:   0%|          | 0/1 [00:00<?, ?it/s]"
      ]
     },
     "metadata": {},
     "output_type": "display_data"
    },
    {
     "data": {
      "application/vnd.jupyter.widget-view+json": {
       "model_id": "3963fadfd23242dc81777399d7e6f854",
       "version_major": 2,
       "version_minor": 0
      },
      "text/plain": [
       "Batches:   0%|          | 0/1 [00:00<?, ?it/s]"
      ]
     },
     "metadata": {},
     "output_type": "display_data"
    },
    {
     "data": {
      "application/vnd.jupyter.widget-view+json": {
       "model_id": "eeaa8f99962146aba9191265e96d0613",
       "version_major": 2,
       "version_minor": 0
      },
      "text/plain": [
       "Batches:   0%|          | 0/1 [00:00<?, ?it/s]"
      ]
     },
     "metadata": {},
     "output_type": "display_data"
    },
    {
     "name": "stderr",
     "output_type": "stream",
     "text": [
      "2024-12-07 13:52:36,215 - INFO - Added 3 edges to the vector database.\n"
     ]
    },
    {
     "name": "stdout",
     "output_type": "stream",
     "text": [
      "Vector database setup successful!\n"
     ]
    }
   ],
   "source": [
    "import vector_db_service\n",
    "from vector_db_service import setup_vector_db, populate_vector_db\n",
    "\n",
    "# Example edges\n",
    "edges = [\n",
    "    {\"consumer\": \"System A\", \"producer\": \"System B\", \"integration\": \"API\"},\n",
    "    {\"consumer\": \"System B\", \"producer\": \"System C\", \"integration\": \"Database\"},\n",
    "    {\"consumer\": \"System A\", \"producer\": \"System D\", \"integration\": \"File Transfer\"},\n",
    "]\n",
    "\n",
    "# Set up and populate the database\n",
    "client = setup_vector_db(edges)\n",
    "if client:\n",
    "    print(\"Vector database setup successful!\")\n",
    "else:\n",
    "    print(\"Failed to set up the vector database.\")"
   ]
  }
 ],
 "metadata": {
  "kernelspec": {
   "display_name": "Python 3 (ipykernel)",
   "language": "python",
   "name": "python3"
  },
  "language_info": {
   "codemirror_mode": {
    "name": "ipython",
    "version": 3
   },
   "file_extension": ".py",
   "mimetype": "text/x-python",
   "name": "python",
   "nbconvert_exporter": "python",
   "pygments_lexer": "ipython3",
   "version": "3.12.7"
  }
 },
 "nbformat": 4,
 "nbformat_minor": 5
}

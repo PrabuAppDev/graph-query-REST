{
 "cells": [
  {
   "cell_type": "code",
   "execution_count": 1,
   "id": "e032e673-876f-4f3a-bf71-d63cc82bfff7",
   "metadata": {},
   "outputs": [
    {
     "name": "stderr",
     "output_type": "stream",
     "text": [
      "2024-12-14 17:07:54,727 - INFO - Found credentials in shared credentials file: ~/.aws/credentials\n",
      "2024-12-14 17:07:55,065 - INFO - AWS Bedrock management client initialized successfully using profile 'AWS_PROFILE_CLI'.\n",
      "2024-12-14 17:07:55,867 - ERROR - Failed to interact with Bedrock client: An error occurred (AccessDeniedException) when calling the ListFoundationModels operation: User: arn:aws:iam::221777993733:user/Notebook-API-access is not authorized to perform: bedrock:ListFoundationModels because no identity-based policy allows the bedrock:ListFoundationModels action\n"
     ]
    }
   ],
   "source": [
    "# Import necessary libraries\n",
    "import boto3\n",
    "import logging\n",
    "\n",
    "# Configure logging\n",
    "logging.basicConfig(level=logging.INFO, format=\"%(asctime)s - %(levelname)s - %(message)s\")\n",
    "\n",
    "# Specify the AWS CLI profile to use\n",
    "AWS_PROFILE = \"AWS_PROFILE_CLI\"\n",
    "\n",
    "# Initialize a session using the specified profile\n",
    "session = boto3.Session(profile_name=AWS_PROFILE)\n",
    "\n",
    "# Create the correct Bedrock client and perform an API call\n",
    "try:\n",
    "    # Use 'bedrock' for management APIs (e.g., listing models)\n",
    "    bedrock = session.client(\"bedrock\")\n",
    "    logging.info(\"AWS Bedrock management client initialized successfully using profile '%s'.\", AWS_PROFILE)\n",
    "except Exception as e:\n",
    "    logging.error(\"Failed to interact with Bedrock client: %s\", str(e))"
   ]
  }
 ],
 "metadata": {
  "kernelspec": {
   "display_name": "Python 3 (ipykernel)",
   "language": "python",
   "name": "python3"
  },
  "language_info": {
   "codemirror_mode": {
    "name": "ipython",
    "version": 3
   },
   "file_extension": ".py",
   "mimetype": "text/x-python",
   "name": "python",
   "nbconvert_exporter": "python",
   "pygments_lexer": "ipython3",
   "version": "3.12.7"
  }
 },
 "nbformat": 4,
 "nbformat_minor": 5
}

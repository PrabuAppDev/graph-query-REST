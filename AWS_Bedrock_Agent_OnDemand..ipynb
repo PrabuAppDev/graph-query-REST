{
 "cells": [
  {
   "cell_type": "code",
   "execution_count": null,
   "id": "d41312dd-e85c-450d-8eeb-0d575c9d62f8",
   "metadata": {},
   "outputs": [],
   "source": [
    "# Import necessary libraries\n",
    "import os\n",
    "import boto3\n",
    "import json\n",
    "import logging\n",
    "\n",
    "# Configure logging\n",
    "logging.basicConfig(level=logging.INFO, format=\"%(asctime)s - %(levelname)s - %(message)s\")\n",
    "\n",
    "# Load environment variables\n",
    "AWS_ACCESS_KEY_ID = os.getenv(\"AWS_ACCESS_KEY_ID\")\n",
    "AWS_SECRET_ACCESS_KEY = os.getenv(\"AWS_SECRET_ACCESS_KEY\")\n",
    "AWS_REGION = os.getenv(\"AWS_REGION\")\n",
    "AWS_BEDROCK_INFERENCE_PROFILE_ARN = os.getenv(\"AWS_BEDROCK_INFERENCE_PROFILE_ARN\")\n",
    "\n",
    "# Validate environment variables\n",
    "assert AWS_ACCESS_KEY_ID, \"AWS_ACCESS_KEY_ID is not set\"\n",
    "assert AWS_SECRET_ACCESS_KEY, \"AWS_SECRET_ACCESS_KEY is not set\"\n",
    "assert AWS_REGION, \"AWS_REGION is not set\"\n",
    "assert AWS_BEDROCK_INFERENCE_PROFILE_ARN, \"BEDROCK_INFERENCE_PROFILE_ARN is not set\"\n",
    "\n",
    "# Initialize AWS Bedrock client\n",
    "bedrock = boto3.client(\n",
    "    service_name=\"bedrock-runtime\",\n",
    "    aws_access_key_id=AWS_ACCESS_KEY_ID,\n",
    "    aws_secret_access_key=AWS_SECRET_ACCESS_KEY,\n",
    "    region_name=AWS_REGION,\n",
    ")\n",
    "\n",
    "logging.info(\"AWS Bedrock client initialized successfully.\")"
   ]
  },
  {
   "cell_type": "code",
   "execution_count": null,
   "id": "e032e673-876f-4f3a-bf71-d63cc82bfff7",
   "metadata": {},
   "outputs": [],
   "source": [
    "# Import necessary libraries\n",
    "import boto3\n",
    "import logging\n",
    "\n",
    "# Configure logging\n",
    "logging.basicConfig(level=logging.INFO, format=\"%(asctime)s - %(levelname)s - %(message)s\")\n",
    "\n",
    "# Specify the AWS CLI profile to use\n",
    "AWS_PROFILE = \"AWS_PROFILE_CLI\"\n",
    "\n",
    "# Initialize a session using the specified profile\n",
    "session = boto3.Session(profile_name=AWS_PROFILE)\n",
    "\n",
    "# Create the correct Bedrock client and perform an API call\n",
    "try:\n",
    "    # Use 'bedrock' for management APIs (e.g., listing models)\n",
    "    bedrock = session.client(\"bedrock\")\n",
    "    logging.info(\"AWS Bedrock management client initialized successfully using profile '%s'.\", AWS_PROFILE)\n",
    "    \n",
    "    # Example call to list available foundation models\n",
    "    response = bedrock.list_foundation_models()\n",
    "    logging.info(\"Available Foundation Models: %s\", response)\n",
    "except Exception as e:\n",
    "    logging.error(\"Failed to interact with Bedrock client: %s\", str(e))"
   ]
  }
 ],
 "metadata": {
  "kernelspec": {
   "display_name": "Python 3 (ipykernel)",
   "language": "python",
   "name": "python3"
  },
  "language_info": {
   "codemirror_mode": {
    "name": "ipython",
    "version": 3
   },
   "file_extension": ".py",
   "mimetype": "text/x-python",
   "name": "python",
   "nbconvert_exporter": "python",
   "pygments_lexer": "ipython3",
   "version": "3.12.7"
  }
 },
 "nbformat": 4,
 "nbformat_minor": 5
}
